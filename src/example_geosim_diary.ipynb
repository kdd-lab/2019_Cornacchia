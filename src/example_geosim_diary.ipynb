{
 "cells": [
  {
   "cell_type": "code",
   "execution_count": 10,
   "metadata": {},
   "outputs": [],
   "source": [
    "import GeoSim as gs\n",
    "import pandas\n",
    "import pickle\n",
    "import dill"
   ]
  },
  {
   "cell_type": "markdown",
   "metadata": {},
   "source": [
    "Simulate the mobility for 1 month of users in **New York City** with the social graph, the spatial tessellation and the Mobility Diary Generator used in the experiments of the thesis (they can be found in the folder data).\n",
    "\n",
    "In this example we use the **GeoSim diary** model"
   ]
  },
  {
   "cell_type": "code",
   "execution_count": 6,
   "metadata": {},
   "outputs": [],
   "source": [
    "data_folder = '../data/'"
   ]
  },
  {
   "cell_type": "code",
   "execution_count": 7,
   "metadata": {},
   "outputs": [],
   "source": [
    "#load the social graph and build an edge list representation\n",
    "\n",
    "social_graph_real = pandas.read_csv(data_folder+'social_graph_nyc.csv', sep='\\t')\n",
    "edges = []\n",
    "social_graph_real.apply(lambda row: edges.append((row['Source'],row['Target'])),axis=1);\n",
    "social_graph = edges"
   ]
  },
  {
   "cell_type": "code",
   "execution_count": 8,
   "metadata": {},
   "outputs": [],
   "source": [
    "#load the weighted spatial tessellation\n",
    "\n",
    "tex = pickle.load(open(data_folder+'tessellation_nyc_250m.pickle','rb'))"
   ]
  },
  {
   "cell_type": "code",
   "execution_count": 9,
   "metadata": {},
   "outputs": [
    {
     "data": {
      "text/html": [
       "<div>\n",
       "<style scoped>\n",
       "    .dataframe tbody tr th:only-of-type {\n",
       "        vertical-align: middle;\n",
       "    }\n",
       "\n",
       "    .dataframe tbody tr th {\n",
       "        vertical-align: top;\n",
       "    }\n",
       "\n",
       "    .dataframe thead th {\n",
       "        text-align: right;\n",
       "    }\n",
       "</style>\n",
       "<table border=\"1\" class=\"dataframe\">\n",
       "  <thead>\n",
       "    <tr style=\"text-align: right;\">\n",
       "      <th></th>\n",
       "      <th>tile_ID</th>\n",
       "      <th>geometry</th>\n",
       "      <th>relevance</th>\n",
       "    </tr>\n",
       "  </thead>\n",
       "  <tbody>\n",
       "    <tr>\n",
       "      <th>300</th>\n",
       "      <td>300</td>\n",
       "      <td>POLYGON ((-74.23888 40.53375, -74.23888 40.535...</td>\n",
       "      <td>1</td>\n",
       "    </tr>\n",
       "    <tr>\n",
       "      <th>436</th>\n",
       "      <td>436</td>\n",
       "      <td>POLYGON ((-74.23214 40.52692, -74.23214 40.528...</td>\n",
       "      <td>2</td>\n",
       "    </tr>\n",
       "    <tr>\n",
       "      <th>437</th>\n",
       "      <td>437</td>\n",
       "      <td>POLYGON ((-74.23214 40.52863, -74.23214 40.530...</td>\n",
       "      <td>2</td>\n",
       "    </tr>\n",
       "  </tbody>\n",
       "</table>\n",
       "</div>"
      ],
      "text/plain": [
       "    tile_ID                                           geometry  relevance\n",
       "300     300  POLYGON ((-74.23888 40.53375, -74.23888 40.535...          1\n",
       "436     436  POLYGON ((-74.23214 40.52692, -74.23214 40.528...          2\n",
       "437     437  POLYGON ((-74.23214 40.52863, -74.23214 40.530...          2"
      ]
     },
     "execution_count": 9,
     "metadata": {},
     "output_type": "execute_result"
    }
   ],
   "source": [
    "tex[:3]"
   ]
  },
  {
   "cell_type": "code",
   "execution_count": 19,
   "metadata": {},
   "outputs": [],
   "source": [
    "#load the Mobility Diary Generator\n",
    "\n",
    "diary = dill.load(open(data_folder+'mobility_diary_generator_nyc.pickle', 'rb'))"
   ]
  },
  {
   "cell_type": "code",
   "execution_count": 20,
   "metadata": {},
   "outputs": [],
   "source": [
    "#instantiate a GeoSim object using the default parameters for the empirical distributions\n",
    "\n",
    "geosim = gs.GeoSim()"
   ]
  },
  {
   "cell_type": "code",
   "execution_count": 21,
   "metadata": {},
   "outputs": [],
   "source": [
    "#setting the period of the simulation\n",
    "\n",
    "start = pandas.to_datetime('2012/04/10 00:00:00')\n",
    "end = pandas.to_datetime('2012/05/10 00:00:00')"
   ]
  },
  {
   "cell_type": "code",
   "execution_count": 22,
   "metadata": {},
   "outputs": [
    {
     "name": "stderr",
     "output_type": "stream",
     "text": [
      "100%|████████████████████████████████████████████████████████████████████████████████| 720/720 [03:34<00:00,  3.36it/s]\n"
     ]
    }
   ],
   "source": [
    "'''\n",
    "generate the synthetic trajectories.\n",
    "as explained in Table 3.2 of the thesis in order to execute \n",
    "the GeoSim diary model the parameters distance and gravity must be True\n",
    "and the mobility diary generator is specified as a parameter\n",
    "\n",
    "we use the Relevance-based starting location (RSL)\n",
    "\n",
    "note that n_agents can be omitted since it is computed from the social graph as the number of nodes\n",
    "'''\n",
    "\n",
    "synthetic_trajectories = geosim.generate(start_date=start, end_date=end, spatial_tessellation=tex,\n",
    "                                     rsl=True, relevance_column='relevance', social_graph=social_graph,\n",
    "                                     distance=True, gravity=True, diary_generator=diary,\n",
    "                                     show_progress = True, random_state=735503)"
   ]
  },
  {
   "cell_type": "code",
   "execution_count": 23,
   "metadata": {},
   "outputs": [
    {
     "data": {
      "text/html": [
       "<div>\n",
       "<style scoped>\n",
       "    .dataframe tbody tr th:only-of-type {\n",
       "        vertical-align: middle;\n",
       "    }\n",
       "\n",
       "    .dataframe tbody tr th {\n",
       "        vertical-align: top;\n",
       "    }\n",
       "\n",
       "    .dataframe thead th {\n",
       "        text-align: right;\n",
       "    }\n",
       "</style>\n",
       "<table border=\"1\" class=\"dataframe\">\n",
       "  <thead>\n",
       "    <tr style=\"text-align: right;\">\n",
       "      <th></th>\n",
       "      <th>uid</th>\n",
       "      <th>lat</th>\n",
       "      <th>lng</th>\n",
       "      <th>datetime</th>\n",
       "    </tr>\n",
       "  </thead>\n",
       "  <tbody>\n",
       "    <tr>\n",
       "      <th>15</th>\n",
       "      <td>19</td>\n",
       "      <td>40.722090</td>\n",
       "      <td>-73.957031</td>\n",
       "      <td>2012-04-10 00:00:00</td>\n",
       "    </tr>\n",
       "    <tr>\n",
       "      <th>5620</th>\n",
       "      <td>19</td>\n",
       "      <td>40.722090</td>\n",
       "      <td>-73.954786</td>\n",
       "      <td>2012-04-14 20:00:00</td>\n",
       "    </tr>\n",
       "    <tr>\n",
       "      <th>5781</th>\n",
       "      <td>19</td>\n",
       "      <td>40.723792</td>\n",
       "      <td>-73.950294</td>\n",
       "      <td>2012-04-14 22:00:00</td>\n",
       "    </tr>\n",
       "    <tr>\n",
       "      <th>6201</th>\n",
       "      <td>19</td>\n",
       "      <td>40.730600</td>\n",
       "      <td>-73.957031</td>\n",
       "      <td>2012-04-15 12:00:00</td>\n",
       "    </tr>\n",
       "    <tr>\n",
       "      <th>6610</th>\n",
       "      <td>19</td>\n",
       "      <td>40.742512</td>\n",
       "      <td>-73.983981</td>\n",
       "      <td>2012-04-15 18:00:00</td>\n",
       "    </tr>\n",
       "  </tbody>\n",
       "</table>\n",
       "</div>"
      ],
      "text/plain": [
       "      uid        lat        lng            datetime\n",
       "15     19  40.722090 -73.957031 2012-04-10 00:00:00\n",
       "5620   19  40.722090 -73.954786 2012-04-14 20:00:00\n",
       "5781   19  40.723792 -73.950294 2012-04-14 22:00:00\n",
       "6201   19  40.730600 -73.957031 2012-04-15 12:00:00\n",
       "6610   19  40.742512 -73.983981 2012-04-15 18:00:00"
      ]
     },
     "execution_count": 23,
     "metadata": {},
     "output_type": "execute_result"
    }
   ],
   "source": [
    "synthetic_trajectories.head()"
   ]
  }
 ],
 "metadata": {
  "kernelspec": {
   "display_name": "Python 3",
   "language": "python",
   "name": "python3"
  },
  "language_info": {
   "codemirror_mode": {
    "name": "ipython",
    "version": 3
   },
   "file_extension": ".py",
   "mimetype": "text/x-python",
   "name": "python",
   "nbconvert_exporter": "python",
   "pygments_lexer": "ipython3",
   "version": "3.7.6"
  }
 },
 "nbformat": 4,
 "nbformat_minor": 2
}
